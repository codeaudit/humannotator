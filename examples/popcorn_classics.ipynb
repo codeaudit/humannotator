{
 "cells": [
  {
   "cell_type": "code",
   "execution_count": null,
   "metadata": {},
   "outputs": [],
   "source": [
    "%cd ..\n",
    "import pandas as pd\n",
    "from humannotator import Annotator"
   ]
  },
  {
   "cell_type": "code",
   "execution_count": null,
   "metadata": {},
   "outputs": [],
   "source": [
    "# load data\n",
    "df = pd.read_csv('examples/popcorn_classics.csv', sep=';', index_col=0)\n",
    "\n",
    "# set up the annotator\n",
    "ratings = [\n",
    "    'One bag',\n",
    "    'Two bags',\n",
    "    'Three bags',\n",
    "    'Four bags',\n",
    "    'Five-bagger',\n",
    "]\n",
    "annotator = Annotator(df, name='VFA | Rate my popcorn classics')\n",
    "annotator.tasks['Bags of popcorn'] = ratings"
   ]
  },
  {
   "cell_type": "code",
   "execution_count": null,
   "metadata": {},
   "outputs": [],
   "source": [
    "# run annotator\n",
    "annotator(user='GT')"
   ]
  }
 ],
 "metadata": {
  "kernelspec": {
   "display_name": "humannotator",
   "language": "python",
   "name": "humannotator"
  },
  "language_info": {
   "codemirror_mode": {
    "name": "ipython",
    "version": 3
   },
   "file_extension": ".py",
   "mimetype": "text/x-python",
   "name": "python",
   "nbconvert_exporter": "python",
   "pygments_lexer": "ipython3",
   "version": "3.7.3"
  }
 },
 "nbformat": 4,
 "nbformat_minor": 4
}
