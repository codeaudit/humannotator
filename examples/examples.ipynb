{
 "cells": [
  {
   "cell_type": "markdown",
   "metadata": {},
   "source": [
    "# HUMANNOTATOR\n",
    "*Example notebook*  \n",
    "  \n",
    "Build easy custom annotators for your Jupyter/pandas workflow!"
   ]
  },
  {
   "cell_type": "code",
   "execution_count": 1,
   "metadata": {},
   "outputs": [],
   "source": [
    "import sys\n",
    "sys.path.insert(0, '../')\n",
    "from humannotator import Annotator, task_factory, load_data\n",
    "import pandas as pd"
   ]
  },
  {
   "cell_type": "markdown",
   "metadata": {},
   "source": [
    "---\n",
    "### Load the data\n",
    "You can pass a `list`, `dict`, `Series` or `DataFrame` object into the Annotator.  \n",
    "Here we will load a dataframe."
   ]
  },
  {
   "cell_type": "code",
   "execution_count": 2,
   "metadata": {},
   "outputs": [],
   "source": [
    "df = pd.read_csv('news.csv', index_col=0)\n",
    "data = load_data(df, item_cols=['title', 'date'], id_col='news_id')"
   ]
  },
  {
   "cell_type": "markdown",
   "metadata": {},
   "source": [
    "### Set up some tasks\n",
    "We can create tasks using the `task_factory`.  \n",
    "Finally, we instantiate the annotator by passing it our data and tasks."
   ]
  },
  {
   "cell_type": "code",
   "execution_count": 3,
   "metadata": {},
   "outputs": [],
   "source": [
    "choices={\n",
    "    '0': 'not adverse media',\n",
    "    '1': 'adverse media',\n",
    "    '3': 'exclude from dataset',\n",
    "}\n",
    "instruct = \"Is the topic political?\"\n",
    "task1 = task_factory(choices, 'Adverse media')\n",
    "task2 = task_factory('bool', 'Political', instruction=instruct, nullable=True) \n",
    "\n",
    "annotator = Annotator(data, [task1, task2])"
   ]
  },
  {
   "cell_type": "markdown",
   "metadata": {},
   "source": [
    "---\n",
    "### Run the annotator by calling it\n",
    "The annotator keeps track of where you were.  \n",
    "Pass the annotator a list of ids if you only want to annotate specific records.  \n",
    "You can exit the annotator and it will continue where you left of when you run it again."
   ]
  },
  {
   "cell_type": "code",
   "execution_count": 10,
   "metadata": {},
   "outputs": [],
   "source": [
    "annotator()"
   ]
  },
  {
   "cell_type": "markdown",
   "metadata": {},
   "source": [
    "---\n",
    "### Access your annotations\n",
    "The annotations are stored in a dataframe."
   ]
  },
  {
   "cell_type": "code",
   "execution_count": 5,
   "metadata": {},
   "outputs": [
    {
     "data": {
      "text/html": [
       "<div>\n",
       "<style scoped>\n",
       "    .dataframe tbody tr th:only-of-type {\n",
       "        vertical-align: middle;\n",
       "    }\n",
       "\n",
       "    .dataframe tbody tr th {\n",
       "        vertical-align: top;\n",
       "    }\n",
       "\n",
       "    .dataframe thead th {\n",
       "        text-align: right;\n",
       "    }\n",
       "</style>\n",
       "<table border=\"1\" class=\"dataframe\">\n",
       "  <thead>\n",
       "    <tr style=\"text-align: right;\">\n",
       "      <th></th>\n",
       "      <th>Adverse media</th>\n",
       "      <th>Political</th>\n",
       "      <th>timestamp</th>\n",
       "    </tr>\n",
       "  </thead>\n",
       "  <tbody>\n",
       "    <tr>\n",
       "      <th>052632_2015-02-28</th>\n",
       "      <td>adverse media</td>\n",
       "      <td>True</td>\n",
       "      <td>2019-09-02 08:59:15.926451</td>\n",
       "    </tr>\n",
       "    <tr>\n",
       "      <th>071607_2016-12-12</th>\n",
       "      <td>exclude from dataset</td>\n",
       "      <td>None</td>\n",
       "      <td>2019-09-02 08:59:25.165664</td>\n",
       "    </tr>\n",
       "    <tr>\n",
       "      <th>141694_2016-02-10</th>\n",
       "      <td>not adverse media</td>\n",
       "      <td>False</td>\n",
       "      <td>2019-09-02 08:59:33.171530</td>\n",
       "    </tr>\n",
       "    <tr>\n",
       "      <th>137157_2017-02-09</th>\n",
       "      <td>not adverse media</td>\n",
       "      <td>True</td>\n",
       "      <td>2019-09-02 08:59:42.894561</td>\n",
       "    </tr>\n",
       "    <tr>\n",
       "      <th>034187_2016-09-27</th>\n",
       "      <td>adverse media</td>\n",
       "      <td>False</td>\n",
       "      <td>2019-09-02 08:59:52.742221</td>\n",
       "    </tr>\n",
       "  </tbody>\n",
       "</table>\n",
       "</div>"
      ],
      "text/plain": [
       "                          Adverse media Political                  timestamp\n",
       "052632_2015-02-28         adverse media      True 2019-09-02 08:59:15.926451\n",
       "071607_2016-12-12  exclude from dataset      None 2019-09-02 08:59:25.165664\n",
       "141694_2016-02-10     not adverse media     False 2019-09-02 08:59:33.171530\n",
       "137157_2017-02-09     not adverse media      True 2019-09-02 08:59:42.894561\n",
       "034187_2016-09-27         adverse media     False 2019-09-02 08:59:52.742221"
      ]
     },
     "execution_count": 5,
     "metadata": {},
     "output_type": "execute_result"
    }
   ],
   "source": [
    "annotator.annotated"
   ]
  },
  {
   "cell_type": "markdown",
   "metadata": {},
   "source": [
    "### Merge your annotations with the data"
   ]
  },
  {
   "cell_type": "code",
   "execution_count": 6,
   "metadata": {},
   "outputs": [
    {
     "data": {
      "text/html": [
       "<div>\n",
       "<style scoped>\n",
       "    .dataframe tbody tr th:only-of-type {\n",
       "        vertical-align: middle;\n",
       "    }\n",
       "\n",
       "    .dataframe tbody tr th {\n",
       "        vertical-align: top;\n",
       "    }\n",
       "\n",
       "    .dataframe thead th {\n",
       "        text-align: right;\n",
       "    }\n",
       "</style>\n",
       "<table border=\"1\" class=\"dataframe\">\n",
       "  <thead>\n",
       "    <tr style=\"text-align: right;\">\n",
       "      <th></th>\n",
       "      <th>title</th>\n",
       "      <th>date</th>\n",
       "      <th>text</th>\n",
       "      <th>Adverse media</th>\n",
       "      <th>Political</th>\n",
       "      <th>timestamp</th>\n",
       "    </tr>\n",
       "  </thead>\n",
       "  <tbody>\n",
       "    <tr>\n",
       "      <th>052632_2015-02-28</th>\n",
       "      <td>Rand Paul wins 2015 CPAC straw poll</td>\n",
       "      <td>2015-02-28</td>\n",
       "      <td>[Washington (CNN)Sen. Rand Paul won the Conser...</td>\n",
       "      <td>adverse media</td>\n",
       "      <td>True</td>\n",
       "      <td>2019-09-02 08:59:15.926451</td>\n",
       "    </tr>\n",
       "    <tr>\n",
       "      <th>071607_2016-12-12</th>\n",
       "      <td>Can Singing Mice Reveal the Roots of Human Spe...</td>\n",
       "      <td>2016-12-12</td>\n",
       "      <td>[One chilly day in February 1877, a British co...</td>\n",
       "      <td>exclude from dataset</td>\n",
       "      <td>None</td>\n",
       "      <td>2019-09-02 08:59:25.165664</td>\n",
       "    </tr>\n",
       "    <tr>\n",
       "      <th>141694_2016-02-10</th>\n",
       "      <td>Dollar hits 15-month low against yen after Yel...</td>\n",
       "      <td>2016-02-10</td>\n",
       "      <td>The dollar fell to a 15-month low against the...</td>\n",
       "      <td>not adverse media</td>\n",
       "      <td>False</td>\n",
       "      <td>2019-09-02 08:59:33.171530</td>\n",
       "    </tr>\n",
       "    <tr>\n",
       "      <th>137157_2017-02-09</th>\n",
       "      <td>Trump's Supreme Court pick dispirited by presi...</td>\n",
       "      <td>2017-02-09</td>\n",
       "      <td>Donald Trump's Supreme Court nominee, Neil Go...</td>\n",
       "      <td>not adverse media</td>\n",
       "      <td>True</td>\n",
       "      <td>2019-09-02 08:59:42.894561</td>\n",
       "    </tr>\n",
       "    <tr>\n",
       "      <th>034187_2016-09-27</th>\n",
       "      <td>FULL TEXT: 10 Things Milo Hates About Islam - ...</td>\n",
       "      <td>2016-09-27</td>\n",
       "      <td>I’m Milo Yiannopoulos, thank you for coming. T...</td>\n",
       "      <td>adverse media</td>\n",
       "      <td>False</td>\n",
       "      <td>2019-09-02 08:59:52.742221</td>\n",
       "    </tr>\n",
       "  </tbody>\n",
       "</table>\n",
       "</div>"
      ],
      "text/plain": [
       "                                                               title  \\\n",
       "052632_2015-02-28                Rand Paul wins 2015 CPAC straw poll   \n",
       "071607_2016-12-12  Can Singing Mice Reveal the Roots of Human Spe...   \n",
       "141694_2016-02-10  Dollar hits 15-month low against yen after Yel...   \n",
       "137157_2017-02-09  Trump's Supreme Court pick dispirited by presi...   \n",
       "034187_2016-09-27  FULL TEXT: 10 Things Milo Hates About Islam - ...   \n",
       "\n",
       "                         date  \\\n",
       "052632_2015-02-28  2015-02-28   \n",
       "071607_2016-12-12  2016-12-12   \n",
       "141694_2016-02-10  2016-02-10   \n",
       "137157_2017-02-09  2017-02-09   \n",
       "034187_2016-09-27  2016-09-27   \n",
       "\n",
       "                                                                text  \\\n",
       "052632_2015-02-28  [Washington (CNN)Sen. Rand Paul won the Conser...   \n",
       "071607_2016-12-12  [One chilly day in February 1877, a British co...   \n",
       "141694_2016-02-10   The dollar fell to a 15-month low against the...   \n",
       "137157_2017-02-09   Donald Trump's Supreme Court nominee, Neil Go...   \n",
       "034187_2016-09-27  I’m Milo Yiannopoulos, thank you for coming. T...   \n",
       "\n",
       "                          Adverse media Political                  timestamp  \n",
       "052632_2015-02-28         adverse media      True 2019-09-02 08:59:15.926451  \n",
       "071607_2016-12-12  exclude from dataset      None 2019-09-02 08:59:25.165664  \n",
       "141694_2016-02-10     not adverse media     False 2019-09-02 08:59:33.171530  \n",
       "137157_2017-02-09     not adverse media      True 2019-09-02 08:59:42.894561  \n",
       "034187_2016-09-27         adverse media     False 2019-09-02 08:59:52.742221  "
      ]
     },
     "execution_count": 6,
     "metadata": {},
     "output_type": "execute_result"
    }
   ],
   "source": [
    "annotator.merged()"
   ]
  },
  {
   "cell_type": "markdown",
   "metadata": {},
   "source": [
    "### Save and load your data"
   ]
  },
  {
   "cell_type": "code",
   "execution_count": 7,
   "metadata": {},
   "outputs": [],
   "source": [
    "annotator.save('annotator.pkl')"
   ]
  },
  {
   "cell_type": "code",
   "execution_count": 8,
   "metadata": {},
   "outputs": [],
   "source": [
    "annotator2 = Annotator.load('annotator.pkl')"
   ]
  },
  {
   "cell_type": "code",
   "execution_count": 9,
   "metadata": {},
   "outputs": [
    {
     "data": {
      "text/html": [
       "<div>\n",
       "<style scoped>\n",
       "    .dataframe tbody tr th:only-of-type {\n",
       "        vertical-align: middle;\n",
       "    }\n",
       "\n",
       "    .dataframe tbody tr th {\n",
       "        vertical-align: top;\n",
       "    }\n",
       "\n",
       "    .dataframe thead th {\n",
       "        text-align: right;\n",
       "    }\n",
       "</style>\n",
       "<table border=\"1\" class=\"dataframe\">\n",
       "  <thead>\n",
       "    <tr style=\"text-align: right;\">\n",
       "      <th></th>\n",
       "      <th>Adverse media</th>\n",
       "      <th>Political</th>\n",
       "      <th>timestamp</th>\n",
       "    </tr>\n",
       "  </thead>\n",
       "  <tbody>\n",
       "    <tr>\n",
       "      <th>052632_2015-02-28</th>\n",
       "      <td>adverse media</td>\n",
       "      <td>True</td>\n",
       "      <td>2019-09-02 08:59:15.926451</td>\n",
       "    </tr>\n",
       "    <tr>\n",
       "      <th>071607_2016-12-12</th>\n",
       "      <td>exclude from dataset</td>\n",
       "      <td>None</td>\n",
       "      <td>2019-09-02 08:59:25.165664</td>\n",
       "    </tr>\n",
       "    <tr>\n",
       "      <th>141694_2016-02-10</th>\n",
       "      <td>not adverse media</td>\n",
       "      <td>False</td>\n",
       "      <td>2019-09-02 08:59:33.171530</td>\n",
       "    </tr>\n",
       "    <tr>\n",
       "      <th>137157_2017-02-09</th>\n",
       "      <td>not adverse media</td>\n",
       "      <td>True</td>\n",
       "      <td>2019-09-02 08:59:42.894561</td>\n",
       "    </tr>\n",
       "    <tr>\n",
       "      <th>034187_2016-09-27</th>\n",
       "      <td>adverse media</td>\n",
       "      <td>False</td>\n",
       "      <td>2019-09-02 08:59:52.742221</td>\n",
       "    </tr>\n",
       "  </tbody>\n",
       "</table>\n",
       "</div>"
      ],
      "text/plain": [
       "                          Adverse media Political                  timestamp\n",
       "052632_2015-02-28         adverse media      True 2019-09-02 08:59:15.926451\n",
       "071607_2016-12-12  exclude from dataset      None 2019-09-02 08:59:25.165664\n",
       "141694_2016-02-10     not adverse media     False 2019-09-02 08:59:33.171530\n",
       "137157_2017-02-09     not adverse media      True 2019-09-02 08:59:42.894561\n",
       "034187_2016-09-27         adverse media     False 2019-09-02 08:59:52.742221"
      ]
     },
     "execution_count": 9,
     "metadata": {},
     "output_type": "execute_result"
    }
   ],
   "source": [
    "annotator2.annotated"
   ]
  }
 ],
 "metadata": {
  "kernelspec": {
   "display_name": "humannotator",
   "language": "python",
   "name": "humannotator"
  },
  "language_info": {
   "codemirror_mode": {
    "name": "ipython",
    "version": 3
   },
   "file_extension": ".py",
   "mimetype": "text/x-python",
   "name": "python",
   "nbconvert_exporter": "python",
   "pygments_lexer": "ipython3",
   "version": "3.7.3"
  }
 },
 "nbformat": 4,
 "nbformat_minor": 4
}
