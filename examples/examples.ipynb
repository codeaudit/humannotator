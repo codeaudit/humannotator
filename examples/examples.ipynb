{
 "cells": [
  {
   "cell_type": "code",
   "execution_count": 19,
   "metadata": {},
   "outputs": [],
   "source": [
    "%load_ext autoreload\n",
    "%autoreload 2"
   ]
  },
  {
   "cell_type": "code",
   "execution_count": 54,
   "metadata": {},
   "outputs": [],
   "source": [
    "import sys\n",
    "sys.path.insert(0, '../')\n",
    "from humannotator.data import Data_DataFrame\n",
    "from humannotator.results import Question_MultipleChoice, Answer\n",
    "from humannotator.interface import Stop, Interface\n",
    "import pandas as pd"
   ]
  },
  {
   "cell_type": "code",
   "execution_count": 13,
   "metadata": {},
   "outputs": [],
   "source": [
    "df = pd.read_csv('news.csv', index_col=0)\n",
    "\n",
    "data = Data_DataFrame(df, elements='title', id='news_id')"
   ]
  },
  {
   "cell_type": "code",
   "execution_count": 9,
   "metadata": {},
   "outputs": [
    {
     "data": {
      "text/plain": [
       "0                  Rand Paul wins 2015 CPAC straw poll\n",
       "1    Can Singing Mice Reveal the Roots of Human Spe...\n",
       "2    Dollar hits 15-month low against yen after Yel...\n",
       "3    Trump's Supreme Court pick dispirited by presi...\n",
       "4    FULL TEXT: 10 Things Milo Hates About Islam - ...\n",
       "5    5 Border Horrors Establishment Media Mostly Ig...\n",
       "6    Crew members injured as plane avoids near coll...\n",
       "7    Bodies Of Missing Married Couple Found On Susp...\n",
       "8    350 Square Feet, Two Kids, Two Cats and a Rabb...\n",
       "9    CDC warns about deadly mushrooms amid surge in...\n",
       "Name: title, dtype: object"
      ]
     },
     "execution_count": 9,
     "metadata": {},
     "output_type": "execute_result"
    }
   ],
   "source": [
    "data.elements"
   ]
  },
  {
   "cell_type": "code",
   "execution_count": 10,
   "metadata": {},
   "outputs": [
    {
     "data": {
      "text/plain": [
       "0    052632_2015-02-28\n",
       "1    071607_2016-12-12\n",
       "2    141694_2016-02-10\n",
       "3    137157_2017-02-09\n",
       "4    034187_2016-09-27\n",
       "5    018678_2017-04-23\n",
       "6    120386_2016-11-14\n",
       "7    135236_2016-11-10\n",
       "8    184514_2017-03-17\n",
       "9    106098_2017-06-02\n",
       "Name: news_id, dtype: object"
      ]
     },
     "execution_count": 10,
     "metadata": {},
     "output_type": "execute_result"
    }
   ],
   "source": [
    "data.ids"
   ]
  },
  {
   "cell_type": "code",
   "execution_count": 64,
   "metadata": {},
   "outputs": [],
   "source": [
    "q = Question_MultipleChoice(\n",
    "    instruction=\"You're a poop!\",\n",
    "    choices={\n",
    "        '0': 'not adverse media',\n",
    "        '1': 'adverse media',\n",
    "        '3': 'exclude from dataset'\n",
    "        })\n",
    "a = Answer(q)\n",
    "i = Interface(a)"
   ]
  },
  {
   "cell_type": "code",
   "execution_count": 66,
   "metadata": {},
   "outputs": [
    {
     "name": "stdout",
     "output_type": "stream",
     "text": [
      "\n",
      "You're a poop!\n",
      "[0] - not adverse media\n",
      "[1] - adverse media\n",
      "[3] - exclude from dataset\n",
      "[.] - exit\n",
      "\n"
     ]
    },
    {
     "name": "stdin",
     "output_type": "stream",
     "text": [
      " .\n"
     ]
    }
   ],
   "source": [
    "i()"
   ]
  }
 ],
 "metadata": {
  "kernelspec": {
   "display_name": "humannotator",
   "language": "python",
   "name": "humannotator"
  },
  "language_info": {
   "codemirror_mode": {
    "name": "ipython",
    "version": 3
   },
   "file_extension": ".py",
   "mimetype": "text/x-python",
   "name": "python",
   "nbconvert_exporter": "python",
   "pygments_lexer": "ipython3",
   "version": "3.7.3"
  }
 },
 "nbformat": 4,
 "nbformat_minor": 4
}
