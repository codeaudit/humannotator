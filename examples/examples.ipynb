{
 "cells": [
  {
   "cell_type": "code",
   "execution_count": 1,
   "metadata": {},
   "outputs": [],
   "source": [
    "%load_ext autoreload\n",
    "%autoreload 2"
   ]
  },
  {
   "cell_type": "code",
   "execution_count": 2,
   "metadata": {},
   "outputs": [],
   "source": [
    "import os\n",
    "import sys\n",
    "sys.path.insert(0, '../')\n",
    "from humannotator.humannotator import Annotator\n",
    "from humannotator.data import Data_DataFrame, Data\n",
    "from humannotator.annotations import Task_MultipleChoice, Annotations\n",
    "import pandas as pd"
   ]
  },
  {
   "cell_type": "code",
   "execution_count": 3,
   "metadata": {},
   "outputs": [],
   "source": [
    "df = pd.read_csv('news.csv', index_col=0)\n",
    "data = Data_DataFrame(df, element_col='title', id_col='news_id')"
   ]
  },
  {
   "cell_type": "code",
   "execution_count": 4,
   "metadata": {},
   "outputs": [],
   "source": [
    "instruction = \"Choose one of the following options:\"\n",
    "choices={\n",
    "    '0': 'not adverse media',\n",
    "    '1': 'adverse media',\n",
    "    '3': 'exclude from dataset'\n",
    "    }\n",
    "\n",
    "task = Task_MultipleChoice(instruction=instruction, choices=choices)\n",
    "annotations = Annotations(task)\n",
    "annotator = Annotator(data, annotations)"
   ]
  },
  {
   "cell_type": "code",
   "execution_count": null,
   "metadata": {},
   "outputs": [
    {
     "name": "stdout",
     "output_type": "stream",
     "text": [
      "id: 052632_2015-02-28\n",
      "element:\n",
      "    Rand Paul wins 2015 CPAC straw poll\n",
      "====================================\n",
      "Choose one of the following options:\n",
      "[0] - not adverse media\n",
      "[1] - adverse media\n",
      "[3] - exclude from dataset\n",
      "[.] - exit\n"
     ]
    }
   ],
   "source": [
    "annotator(data.ids)"
   ]
  },
  {
   "cell_type": "code",
   "execution_count": 6,
   "metadata": {},
   "outputs": [
    {
     "data": {
      "text/plain": [
       "{0: Annotation(value: 0, timestamp: 2019-08-06 00:51:03.378904),\n",
       " 1: Annotation(value: 3, timestamp: 2019-08-06 00:51:04.808898),\n",
       " 2: Annotation(value: 1, timestamp: 2019-08-06 00:51:06.189198),\n",
       " 3: Annotation(value: 0, timestamp: 2019-08-06 00:51:10.866436)}"
      ]
     },
     "execution_count": 6,
     "metadata": {},
     "output_type": "execute_result"
    }
   ],
   "source": [
    "annotator.annotations.annotations"
   ]
  }
 ],
 "metadata": {
  "kernelspec": {
   "display_name": "humannotator",
   "language": "python",
   "name": "humannotator"
  },
  "language_info": {
   "codemirror_mode": {
    "name": "ipython",
    "version": 3
   },
   "file_extension": ".py",
   "mimetype": "text/x-python",
   "name": "python",
   "nbconvert_exporter": "python",
   "pygments_lexer": "ipython3",
   "version": "3.7.3"
  }
 },
 "nbformat": 4,
 "nbformat_minor": 4
}
