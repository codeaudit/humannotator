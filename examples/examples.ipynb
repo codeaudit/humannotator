{
 "cells": [
  {
   "cell_type": "markdown",
   "metadata": {},
   "source": [
    "# HUMANNOTATOR\n",
    "*Example notebook*  \n",
    "  \n",
    "Build easy custom annotators for your Jupyter/pandas workflow!"
   ]
  },
  {
   "cell_type": "code",
   "execution_count": 1,
   "metadata": {},
   "outputs": [],
   "source": [
    "import sys\n",
    "sys.path.insert(0, '../')\n",
    "from humannotator import Annotator, task_factory, load_data\n",
    "import pandas as pd"
   ]
  },
  {
   "cell_type": "markdown",
   "metadata": {},
   "source": [
    "---\n",
    "### Load the data\n",
    "You can pass a `list`, `dict`, `Series` or `DataFrame` object into the Annotator.  \n",
    "Here we will load a dataframe."
   ]
  },
  {
   "cell_type": "code",
   "execution_count": 2,
   "metadata": {},
   "outputs": [],
   "source": [
    "df = pd.read_csv('news.csv', index_col=0)\n",
    "data = load_data(df, item_cols=['title', 'date'], id_col='news_id')"
   ]
  },
  {
   "cell_type": "markdown",
   "metadata": {},
   "source": [
    "### Set up some tasks\n",
    "We can create tasks using the `task_factory`.  \n",
    "Lastly, we instantiate the annotator by passing it our annotation tasks and data."
   ]
  },
  {
   "cell_type": "code",
   "execution_count": 3,
   "metadata": {},
   "outputs": [],
   "source": [
    "choices={\n",
    "    '0': 'not adverse media',\n",
    "    '1': 'adverse media',\n",
    "    '3': 'exclude from dataset',\n",
    "}\n",
    "instruct = \"Is the topic political?\"\n",
    "task1 = task_factory(choices, 'Adverse media')\n",
    "task2 = task_factory('bool', 'Political', instruction=instruct, nullable=True) \n",
    "\n",
    "annotator = Annotator([task1, task2], data)"
   ]
  },
  {
   "cell_type": "markdown",
   "metadata": {},
   "source": [
    "---\n",
    "### Run the annotator by calling it\n",
    "The annotator keeps track of where you were.  \n",
    "Pass the annotator a list of ids if you only want to annotate specific records.  \n",
    "You can exit the annotator and it will continue where you left of when you run it again."
   ]
  },
  {
   "cell_type": "code",
   "execution_count": 4,
   "metadata": {},
   "outputs": [],
   "source": [
    "annotator()"
   ]
  },
  {
   "cell_type": "markdown",
   "metadata": {},
   "source": [
    "We can use the highlighter to highlight specific phrases.  \n",
    "Pass 'highlight_text' as a key-word argument to the annotator call to do so.  \n",
    "Alternatively, we could have instantiated the annotator with the 'highlight_text' argument."
   ]
  },
  {
   "cell_type": "code",
   "execution_count": 5,
   "metadata": {},
   "outputs": [],
   "source": [
    "annotator(phrases=['Breitbart', 'media'], flags=2)"
   ]
  },
  {
   "cell_type": "markdown",
   "metadata": {},
   "source": [
    "---\n",
    "### Access your annotations\n",
    "The annotations are stored in a dataframe."
   ]
  },
  {
   "cell_type": "code",
   "execution_count": 6,
   "metadata": {},
   "outputs": [
    {
     "data": {
      "text/html": [
       "<div>\n",
       "<style scoped>\n",
       "    .dataframe tbody tr th:only-of-type {\n",
       "        vertical-align: middle;\n",
       "    }\n",
       "\n",
       "    .dataframe tbody tr th {\n",
       "        vertical-align: top;\n",
       "    }\n",
       "\n",
       "    .dataframe thead th {\n",
       "        text-align: right;\n",
       "    }\n",
       "</style>\n",
       "<table border=\"1\" class=\"dataframe\">\n",
       "  <thead>\n",
       "    <tr style=\"text-align: right;\">\n",
       "      <th></th>\n",
       "      <th>Adverse media</th>\n",
       "      <th>Political</th>\n",
       "      <th>timestamp</th>\n",
       "    </tr>\n",
       "  </thead>\n",
       "  <tbody>\n",
       "    <tr>\n",
       "      <th>052632_2015-02-28</th>\n",
       "      <td>not adverse media</td>\n",
       "      <td>True</td>\n",
       "      <td>2019-09-05 01:06:57.401941</td>\n",
       "    </tr>\n",
       "    <tr>\n",
       "      <th>071607_2016-12-12</th>\n",
       "      <td>adverse media</td>\n",
       "      <td>False</td>\n",
       "      <td>2019-09-05 01:06:59.951821</td>\n",
       "    </tr>\n",
       "    <tr>\n",
       "      <th>141694_2016-02-10</th>\n",
       "      <td>exclude from dataset</td>\n",
       "      <td>True</td>\n",
       "      <td>2019-09-05 01:07:02.669965</td>\n",
       "    </tr>\n",
       "    <tr>\n",
       "      <th>137157_2017-02-09</th>\n",
       "      <td>exclude from dataset</td>\n",
       "      <td>True</td>\n",
       "      <td>2019-09-05 01:07:11.014806</td>\n",
       "    </tr>\n",
       "    <tr>\n",
       "      <th>034187_2016-09-27</th>\n",
       "      <td>not adverse media</td>\n",
       "      <td>True</td>\n",
       "      <td>2019-09-05 01:07:14.744201</td>\n",
       "    </tr>\n",
       "    <tr>\n",
       "      <th>018678_2017-04-23</th>\n",
       "      <td>not adverse media</td>\n",
       "      <td>True</td>\n",
       "      <td>2019-09-05 01:07:18.130129</td>\n",
       "    </tr>\n",
       "    <tr>\n",
       "      <th>120386_2016-11-14</th>\n",
       "      <td>exclude from dataset</td>\n",
       "      <td>True</td>\n",
       "      <td>2019-09-05 01:07:21.944958</td>\n",
       "    </tr>\n",
       "    <tr>\n",
       "      <th>135236_2016-11-10</th>\n",
       "      <td>not adverse media</td>\n",
       "      <td>None</td>\n",
       "      <td>2019-09-05 01:07:29.129704</td>\n",
       "    </tr>\n",
       "    <tr>\n",
       "      <th>184514_2017-03-17</th>\n",
       "      <td>adverse media</td>\n",
       "      <td>False</td>\n",
       "      <td>2019-09-05 01:07:33.138284</td>\n",
       "    </tr>\n",
       "    <tr>\n",
       "      <th>106098_2017-06-02</th>\n",
       "      <td>exclude from dataset</td>\n",
       "      <td>None</td>\n",
       "      <td>2019-09-05 01:07:39.384583</td>\n",
       "    </tr>\n",
       "  </tbody>\n",
       "</table>\n",
       "</div>"
      ],
      "text/plain": [
       "                          Adverse media Political                  timestamp\n",
       "052632_2015-02-28     not adverse media      True 2019-09-05 01:06:57.401941\n",
       "071607_2016-12-12         adverse media     False 2019-09-05 01:06:59.951821\n",
       "141694_2016-02-10  exclude from dataset      True 2019-09-05 01:07:02.669965\n",
       "137157_2017-02-09  exclude from dataset      True 2019-09-05 01:07:11.014806\n",
       "034187_2016-09-27     not adverse media      True 2019-09-05 01:07:14.744201\n",
       "018678_2017-04-23     not adverse media      True 2019-09-05 01:07:18.130129\n",
       "120386_2016-11-14  exclude from dataset      True 2019-09-05 01:07:21.944958\n",
       "135236_2016-11-10     not adverse media      None 2019-09-05 01:07:29.129704\n",
       "184514_2017-03-17         adverse media     False 2019-09-05 01:07:33.138284\n",
       "106098_2017-06-02  exclude from dataset      None 2019-09-05 01:07:39.384583"
      ]
     },
     "execution_count": 6,
     "metadata": {},
     "output_type": "execute_result"
    }
   ],
   "source": [
    "annotator.annotated"
   ]
  },
  {
   "cell_type": "markdown",
   "metadata": {},
   "source": [
    "### Merge your annotations with the data"
   ]
  },
  {
   "cell_type": "code",
   "execution_count": 7,
   "metadata": {},
   "outputs": [
    {
     "data": {
      "text/html": [
       "<div>\n",
       "<style scoped>\n",
       "    .dataframe tbody tr th:only-of-type {\n",
       "        vertical-align: middle;\n",
       "    }\n",
       "\n",
       "    .dataframe tbody tr th {\n",
       "        vertical-align: top;\n",
       "    }\n",
       "\n",
       "    .dataframe thead tr th {\n",
       "        text-align: left;\n",
       "    }\n",
       "</style>\n",
       "<table border=\"1\" class=\"dataframe\">\n",
       "  <thead>\n",
       "    <tr>\n",
       "      <th></th>\n",
       "      <th colspan=\"3\" halign=\"left\">DATA</th>\n",
       "      <th colspan=\"3\" halign=\"left\">ANNOTATIONS</th>\n",
       "    </tr>\n",
       "    <tr>\n",
       "      <th></th>\n",
       "      <th>title</th>\n",
       "      <th>date</th>\n",
       "      <th>text</th>\n",
       "      <th>Adverse media</th>\n",
       "      <th>Political</th>\n",
       "      <th>timestamp</th>\n",
       "    </tr>\n",
       "  </thead>\n",
       "  <tbody>\n",
       "    <tr>\n",
       "      <th>052632_2015-02-28</th>\n",
       "      <td>Rand Paul wins 2015 CPAC straw poll</td>\n",
       "      <td>2015-02-28</td>\n",
       "      <td>[Washington (CNN)Sen. Rand Paul won the Conser...</td>\n",
       "      <td>not adverse media</td>\n",
       "      <td>True</td>\n",
       "      <td>2019-09-05 01:06:57.401941</td>\n",
       "    </tr>\n",
       "    <tr>\n",
       "      <th>071607_2016-12-12</th>\n",
       "      <td>Can Singing Mice Reveal the Roots of Human Spe...</td>\n",
       "      <td>2016-12-12</td>\n",
       "      <td>[One chilly day in February 1877, a British co...</td>\n",
       "      <td>adverse media</td>\n",
       "      <td>False</td>\n",
       "      <td>2019-09-05 01:06:59.951821</td>\n",
       "    </tr>\n",
       "    <tr>\n",
       "      <th>141694_2016-02-10</th>\n",
       "      <td>Dollar hits 15-month low against yen after Yel...</td>\n",
       "      <td>2016-02-10</td>\n",
       "      <td>The dollar fell to a 15-month low against the...</td>\n",
       "      <td>exclude from dataset</td>\n",
       "      <td>True</td>\n",
       "      <td>2019-09-05 01:07:02.669965</td>\n",
       "    </tr>\n",
       "    <tr>\n",
       "      <th>137157_2017-02-09</th>\n",
       "      <td>Trump's Supreme Court pick dispirited by presi...</td>\n",
       "      <td>2017-02-09</td>\n",
       "      <td>Donald Trump's Supreme Court nominee, Neil Go...</td>\n",
       "      <td>exclude from dataset</td>\n",
       "      <td>True</td>\n",
       "      <td>2019-09-05 01:07:11.014806</td>\n",
       "    </tr>\n",
       "    <tr>\n",
       "      <th>034187_2016-09-27</th>\n",
       "      <td>FULL TEXT: 10 Things Milo Hates About Islam - ...</td>\n",
       "      <td>2016-09-27</td>\n",
       "      <td>I’m Milo Yiannopoulos, thank you for coming. T...</td>\n",
       "      <td>not adverse media</td>\n",
       "      <td>True</td>\n",
       "      <td>2019-09-05 01:07:14.744201</td>\n",
       "    </tr>\n",
       "    <tr>\n",
       "      <th>018678_2017-04-23</th>\n",
       "      <td>5 Border Horrors Establishment Media Mostly Ig...</td>\n",
       "      <td>2017-04-23</td>\n",
       "      <td>The brutality that comes from the open border ...</td>\n",
       "      <td>not adverse media</td>\n",
       "      <td>True</td>\n",
       "      <td>2019-09-05 01:07:18.130129</td>\n",
       "    </tr>\n",
       "    <tr>\n",
       "      <th>120386_2016-11-14</th>\n",
       "      <td>Crew members injured as plane avoids near coll...</td>\n",
       "      <td>2016-11-14</td>\n",
       "      <td>A Canadian airliner with 54 passengers on boar...</td>\n",
       "      <td>exclude from dataset</td>\n",
       "      <td>True</td>\n",
       "      <td>2019-09-05 01:07:21.944958</td>\n",
       "    </tr>\n",
       "    <tr>\n",
       "      <th>135236_2016-11-10</th>\n",
       "      <td>Bodies Of Missing Married Couple Found On Susp...</td>\n",
       "      <td>2016-11-10</td>\n",
       "      <td>[The bodies of two more presumed victims of To...</td>\n",
       "      <td>not adverse media</td>\n",
       "      <td>None</td>\n",
       "      <td>2019-09-05 01:07:29.129704</td>\n",
       "    </tr>\n",
       "    <tr>\n",
       "      <th>184514_2017-03-17</th>\n",
       "      <td>350 Square Feet, Two Kids, Two Cats and a Rabb...</td>\n",
       "      <td>2017-03-17</td>\n",
       "      <td>Maligned though New York’s rental market may b...</td>\n",
       "      <td>adverse media</td>\n",
       "      <td>False</td>\n",
       "      <td>2019-09-05 01:07:33.138284</td>\n",
       "    </tr>\n",
       "    <tr>\n",
       "      <th>106098_2017-06-02</th>\n",
       "      <td>CDC warns about deadly mushrooms amid surge in...</td>\n",
       "      <td>2017-06-02</td>\n",
       "      <td>Dangerous wild “death cap” mushrooms in Califo...</td>\n",
       "      <td>exclude from dataset</td>\n",
       "      <td>None</td>\n",
       "      <td>2019-09-05 01:07:39.384583</td>\n",
       "    </tr>\n",
       "  </tbody>\n",
       "</table>\n",
       "</div>"
      ],
      "text/plain": [
       "                                                                DATA  \\\n",
       "                                                               title   \n",
       "052632_2015-02-28                Rand Paul wins 2015 CPAC straw poll   \n",
       "071607_2016-12-12  Can Singing Mice Reveal the Roots of Human Spe...   \n",
       "141694_2016-02-10  Dollar hits 15-month low against yen after Yel...   \n",
       "137157_2017-02-09  Trump's Supreme Court pick dispirited by presi...   \n",
       "034187_2016-09-27  FULL TEXT: 10 Things Milo Hates About Islam - ...   \n",
       "018678_2017-04-23  5 Border Horrors Establishment Media Mostly Ig...   \n",
       "120386_2016-11-14  Crew members injured as plane avoids near coll...   \n",
       "135236_2016-11-10  Bodies Of Missing Married Couple Found On Susp...   \n",
       "184514_2017-03-17  350 Square Feet, Two Kids, Two Cats and a Rabb...   \n",
       "106098_2017-06-02  CDC warns about deadly mushrooms amid surge in...   \n",
       "\n",
       "                               \\\n",
       "                         date   \n",
       "052632_2015-02-28  2015-02-28   \n",
       "071607_2016-12-12  2016-12-12   \n",
       "141694_2016-02-10  2016-02-10   \n",
       "137157_2017-02-09  2017-02-09   \n",
       "034187_2016-09-27  2016-09-27   \n",
       "018678_2017-04-23  2017-04-23   \n",
       "120386_2016-11-14  2016-11-14   \n",
       "135236_2016-11-10  2016-11-10   \n",
       "184514_2017-03-17  2017-03-17   \n",
       "106098_2017-06-02  2017-06-02   \n",
       "\n",
       "                                                                      \\\n",
       "                                                                text   \n",
       "052632_2015-02-28  [Washington (CNN)Sen. Rand Paul won the Conser...   \n",
       "071607_2016-12-12  [One chilly day in February 1877, a British co...   \n",
       "141694_2016-02-10   The dollar fell to a 15-month low against the...   \n",
       "137157_2017-02-09   Donald Trump's Supreme Court nominee, Neil Go...   \n",
       "034187_2016-09-27  I’m Milo Yiannopoulos, thank you for coming. T...   \n",
       "018678_2017-04-23  The brutality that comes from the open border ...   \n",
       "120386_2016-11-14  A Canadian airliner with 54 passengers on boar...   \n",
       "135236_2016-11-10  [The bodies of two more presumed victims of To...   \n",
       "184514_2017-03-17  Maligned though New York’s rental market may b...   \n",
       "106098_2017-06-02  Dangerous wild “death cap” mushrooms in Califo...   \n",
       "\n",
       "                            ANNOTATIONS                                       \n",
       "                          Adverse media Political                  timestamp  \n",
       "052632_2015-02-28     not adverse media      True 2019-09-05 01:06:57.401941  \n",
       "071607_2016-12-12         adverse media     False 2019-09-05 01:06:59.951821  \n",
       "141694_2016-02-10  exclude from dataset      True 2019-09-05 01:07:02.669965  \n",
       "137157_2017-02-09  exclude from dataset      True 2019-09-05 01:07:11.014806  \n",
       "034187_2016-09-27     not adverse media      True 2019-09-05 01:07:14.744201  \n",
       "018678_2017-04-23     not adverse media      True 2019-09-05 01:07:18.130129  \n",
       "120386_2016-11-14  exclude from dataset      True 2019-09-05 01:07:21.944958  \n",
       "135236_2016-11-10     not adverse media      None 2019-09-05 01:07:29.129704  \n",
       "184514_2017-03-17         adverse media     False 2019-09-05 01:07:33.138284  \n",
       "106098_2017-06-02  exclude from dataset      None 2019-09-05 01:07:39.384583  "
      ]
     },
     "execution_count": 7,
     "metadata": {},
     "output_type": "execute_result"
    }
   ],
   "source": [
    "annotator.merged()"
   ]
  },
  {
   "cell_type": "markdown",
   "metadata": {},
   "source": [
    "### Save and load your data"
   ]
  },
  {
   "cell_type": "code",
   "execution_count": 9,
   "metadata": {},
   "outputs": [],
   "source": [
    "annotator.save('annotator.pkl')"
   ]
  },
  {
   "cell_type": "code",
   "execution_count": 10,
   "metadata": {},
   "outputs": [],
   "source": [
    "annotator2 = Annotator.load('annotator.pkl')"
   ]
  },
  {
   "cell_type": "markdown",
   "metadata": {},
   "source": [
    "We can access our annotations:"
   ]
  },
  {
   "cell_type": "code",
   "execution_count": 11,
   "metadata": {},
   "outputs": [
    {
     "data": {
      "text/html": [
       "<div>\n",
       "<style scoped>\n",
       "    .dataframe tbody tr th:only-of-type {\n",
       "        vertical-align: middle;\n",
       "    }\n",
       "\n",
       "    .dataframe tbody tr th {\n",
       "        vertical-align: top;\n",
       "    }\n",
       "\n",
       "    .dataframe thead th {\n",
       "        text-align: right;\n",
       "    }\n",
       "</style>\n",
       "<table border=\"1\" class=\"dataframe\">\n",
       "  <thead>\n",
       "    <tr style=\"text-align: right;\">\n",
       "      <th></th>\n",
       "      <th>Adverse media</th>\n",
       "      <th>Political</th>\n",
       "      <th>timestamp</th>\n",
       "    </tr>\n",
       "  </thead>\n",
       "  <tbody>\n",
       "    <tr>\n",
       "      <th>052632_2015-02-28</th>\n",
       "      <td>not adverse media</td>\n",
       "      <td>True</td>\n",
       "      <td>2019-09-04 00:23:43.430301</td>\n",
       "    </tr>\n",
       "    <tr>\n",
       "      <th>071607_2016-12-12</th>\n",
       "      <td>exclude from dataset</td>\n",
       "      <td>None</td>\n",
       "      <td>2019-09-04 00:23:48.755016</td>\n",
       "    </tr>\n",
       "    <tr>\n",
       "      <th>141694_2016-02-10</th>\n",
       "      <td>not adverse media</td>\n",
       "      <td>False</td>\n",
       "      <td>2019-09-04 00:23:57.141184</td>\n",
       "    </tr>\n",
       "    <tr>\n",
       "      <th>137157_2017-02-09</th>\n",
       "      <td>not adverse media</td>\n",
       "      <td>True</td>\n",
       "      <td>2019-09-04 00:24:01.263520</td>\n",
       "    </tr>\n",
       "    <tr>\n",
       "      <th>034187_2016-09-27</th>\n",
       "      <td>adverse media</td>\n",
       "      <td>False</td>\n",
       "      <td>2019-09-04 00:24:05.898087</td>\n",
       "    </tr>\n",
       "    <tr>\n",
       "      <th>018678_2017-04-23</th>\n",
       "      <td>adverse media</td>\n",
       "      <td>False</td>\n",
       "      <td>2019-09-04 00:24:11.623225</td>\n",
       "    </tr>\n",
       "  </tbody>\n",
       "</table>\n",
       "</div>"
      ],
      "text/plain": [
       "                          Adverse media Political                  timestamp\n",
       "052632_2015-02-28     not adverse media      True 2019-09-04 00:23:43.430301\n",
       "071607_2016-12-12  exclude from dataset      None 2019-09-04 00:23:48.755016\n",
       "141694_2016-02-10     not adverse media     False 2019-09-04 00:23:57.141184\n",
       "137157_2017-02-09     not adverse media      True 2019-09-04 00:24:01.263520\n",
       "034187_2016-09-27         adverse media     False 2019-09-04 00:24:05.898087\n",
       "018678_2017-04-23         adverse media     False 2019-09-04 00:24:11.623225"
      ]
     },
     "execution_count": 11,
     "metadata": {},
     "output_type": "execute_result"
    }
   ],
   "source": [
    "annotator2.annotated"
   ]
  },
  {
   "cell_type": "markdown",
   "metadata": {},
   "source": [
    "But when we try to access the data something unexpected happens:"
   ]
  },
  {
   "cell_type": "code",
   "execution_count": 13,
   "metadata": {},
   "outputs": [
    {
     "name": "stdout",
     "output_type": "stream",
     "text": [
      "NO DATA LOADED\n",
      "==============\n",
      "Load the data first by assigning it to the `data` property of the annotator.\n"
     ]
    }
   ],
   "source": [
    "annotator2.data"
   ]
  },
  {
   "cell_type": "markdown",
   "metadata": {},
   "source": [
    "By default the humannotator will not store the data when you pickle it.  \n",
    "After unpickling our annotator we need to then load our data back in for it to work:"
   ]
  },
  {
   "cell_type": "code",
   "execution_count": 14,
   "metadata": {},
   "outputs": [],
   "source": [
    "annotator2.data = data"
   ]
  },
  {
   "cell_type": "markdown",
   "metadata": {},
   "source": [
    "Now we can continue where we left off:"
   ]
  },
  {
   "cell_type": "code",
   "execution_count": 16,
   "metadata": {},
   "outputs": [],
   "source": [
    "annotator2(phrases='drone')"
   ]
  },
  {
   "cell_type": "markdown",
   "metadata": {},
   "source": [
    "If you do wish to save the data with the annotator, then set the `save_data` flag to True."
   ]
  }
 ],
 "metadata": {
  "kernelspec": {
   "display_name": "humannotator",
   "language": "python",
   "name": "humannotator"
  },
  "language_info": {
   "codemirror_mode": {
    "name": "ipython",
    "version": 3
   },
   "file_extension": ".py",
   "mimetype": "text/x-python",
   "name": "python",
   "nbconvert_exporter": "python",
   "pygments_lexer": "ipython3",
   "version": "3.7.3"
  }
 },
 "nbformat": 4,
 "nbformat_minor": 4
}
