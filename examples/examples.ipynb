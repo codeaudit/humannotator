{
 "cells": [
  {
   "cell_type": "markdown",
   "metadata": {},
   "source": [
    "# HUMANNOTATOR\n",
    "*Example notebook*  \n",
    "Lawrence Vriend  \n",
    "  \n",
    "Build easy custom annotators for your Jupyter/pandas workflow!"
   ]
  },
  {
   "cell_type": "code",
   "execution_count": 1,
   "metadata": {},
   "outputs": [],
   "source": [
    "import sys\n",
    "sys.path.insert(0, '../')\n",
    "from humannotator import Annotator, task_factory, load_data\n",
    "import pandas as pd"
   ]
  },
  {
   "cell_type": "markdown",
   "metadata": {},
   "source": [
    "---\n",
    "### Load the data\n",
    "You can pass a `list`, `dict`, `Series` or `DataFrame` object into the Annotator.  \n",
    "Here we will load a dataframe with a few newspaper articles."
   ]
  },
  {
   "cell_type": "code",
   "execution_count": 2,
   "metadata": {},
   "outputs": [],
   "source": [
    "df = pd.read_csv('news.csv', index_col=0)\n",
    "data = load_data(df, id_col='news_id')"
   ]
  },
  {
   "cell_type": "markdown",
   "metadata": {},
   "source": [
    "These articles consist of long strings. As such the DataFrame is not a great way to view them.  \n",
    "But we can look at the records in our data one by one by passing the data into the annotator.  \n",
    "- Long strings will automatically be **truncated** by the annotator.  \n",
    "- When using the annotator in a Jupyter notebook, you can expand/collapse these items by clicking on them.\n",
    "\n",
    "Navigate through the records using 'x' for next, 'z' for previous and '.' to exit:"
   ]
  },
  {
   "cell_type": "code",
   "execution_count": 3,
   "metadata": {},
   "outputs": [],
   "source": [
    "annotator = Annotator(data=data)\n",
    "annotator()"
   ]
  },
  {
   "cell_type": "markdown",
   "metadata": {},
   "source": [
    "### Set up some tasks\n",
    "Of course, we don't only want to look at the data, we want to annotate it.  \n",
    "In order to do so, we must set up some annotation tasks.  \n",
    "We can create tasks using the `task_factory`:"
   ]
  },
  {
   "cell_type": "code",
   "execution_count": 4,
   "metadata": {},
   "outputs": [],
   "source": [
    "choices={\n",
    "    '0': 'not toxic media',\n",
    "    '1': 'toxic media',\n",
    "    '3': 'exclude from dataset',\n",
    "}\n",
    "instruction = \"Is the topic political in nature?\"\n",
    "task1 = task_factory(choices, 'Toxic media')\n",
    "task2 = task_factory(bool, 'Political', instruction=instruction, nullable=True) \n",
    "\n",
    "annotator = Annotator([task1, task2], data)"
   ]
  },
  {
   "cell_type": "markdown",
   "metadata": {},
   "source": [
    "Alternatively, we can access and add tasks through **subscription**.  \n",
    "We can set up a task by passing in the `kind` and optionally:\n",
    "- an `instruction`,\n",
    "- whether the task is `nullable`,\n",
    "- whether it has any `dependencies`.\n",
    "\n",
    "For now let's add a task that takes in a string: "
   ]
  },
  {
   "cell_type": "code",
   "execution_count": 5,
   "metadata": {},
   "outputs": [],
   "source": [
    "annotator.tasks['Politician'] = str, 'Who is the main political figure?'"
   ]
  },
  {
   "cell_type": "markdown",
   "metadata": {},
   "source": [
    "You can check and change the order of the tasks by accessing the `order` attribute on `tasks`.\n",
    "\n",
    "### Dependencies between tasks\n",
    "In this case it may be a good idea to add some dependencies to our workflow.  \n",
    "If we mark the record to be excluded, then there is no need to perform any subsequent tasks.  \n",
    "Also, if a task is not political, then we don't need to state the politician.   \n",
    "Let's set that up:"
   ]
  },
  {
   "cell_type": "code",
   "execution_count": 6,
   "metadata": {},
   "outputs": [],
   "source": [
    "dependency1 = (\"`Toxic media` == 'exclude from dataset'\", None)\n",
    "dependency2 = (\"Political == False\", None)\n",
    "annotator.tasks['Political'] = bool, \"Is the topic political in nature?\", True, dependency1\n",
    "annotator.tasks['Politician'] = str, \"Who is the main political figure?\", True, [dependency1, dependency2]"
   ]
  },
  {
   "cell_type": "markdown",
   "metadata": {},
   "source": [
    "A dependency consists of two parts:\n",
    "- A [pandas query statement](https://pandas.pydata.org/pandas-docs/stable/user_guide/indexing.html#indexing-query)\n",
    "- The value to assign if the statement evaluates to True\n",
    "\n",
    "Multiple dependencies can be added.  \n",
    "Dependencies will be evaluated in order.  \n",
    "If the statement evaluates to True, then the assignment is performed.  \n",
    "Once this happens, no other dependencies will be checked.\n",
    "\n",
    "---\n",
    "### Run the annotator by calling it\n",
    "The annotator keeps track of where you were.  \n",
    "Pass the annotator a list of ids if you only want to annotate specific records.  \n",
    "You can exit the annotator and it will continue where you left of when you run it again.  \n",
    "An annotation is only stored if ALL tasks were performed.\n",
    "\n",
    "Let's add a user too:"
   ]
  },
  {
   "cell_type": "code",
   "execution_count": 7,
   "metadata": {},
   "outputs": [],
   "source": [
    "annotator(user='LV')"
   ]
  },
  {
   "cell_type": "markdown",
   "metadata": {},
   "source": [
    "---\n",
    "### Highlighter\n",
    "We can use the highlighter to highlight specific phrases.  \n",
    "Pass 'highlight_text' as a key-word argument to the annotator call to do so.  \n",
    "Alternatively, we could have instantiated the annotator with the 'highlight_text' argument."
   ]
  },
  {
   "cell_type": "code",
   "execution_count": 8,
   "metadata": {},
   "outputs": [],
   "source": [
    "phrases = ['trump', 'news', 'drone', 'judge', '\\w*rand', '\\w*com\\w*']\n",
    "annotator(phrases=phrases, flags=2)"
   ]
  },
  {
   "cell_type": "markdown",
   "metadata": {},
   "source": [
    "---\n",
    "### Access your annotations\n",
    "The annotations are stored in a dataframe."
   ]
  },
  {
   "cell_type": "code",
   "execution_count": 9,
   "metadata": {},
   "outputs": [
    {
     "data": {
      "text/html": [
       "<div>\n",
       "<style scoped>\n",
       "    .dataframe tbody tr th:only-of-type {\n",
       "        vertical-align: middle;\n",
       "    }\n",
       "\n",
       "    .dataframe tbody tr th {\n",
       "        vertical-align: top;\n",
       "    }\n",
       "\n",
       "    .dataframe thead th {\n",
       "        text-align: right;\n",
       "    }\n",
       "</style>\n",
       "<table border=\"1\" class=\"dataframe\">\n",
       "  <thead>\n",
       "    <tr style=\"text-align: right;\">\n",
       "      <th></th>\n",
       "      <th>Toxic media</th>\n",
       "      <th>Political</th>\n",
       "      <th>Politician</th>\n",
       "      <th>timestamp</th>\n",
       "      <th>user</th>\n",
       "    </tr>\n",
       "  </thead>\n",
       "  <tbody>\n",
       "    <tr>\n",
       "      <th>052632_2015-02-28</th>\n",
       "      <td>not toxic media</td>\n",
       "      <td>True</td>\n",
       "      <td>Rand Paul</td>\n",
       "      <td>2019-09-24 23:36:27.777639936</td>\n",
       "      <td>LV</td>\n",
       "    </tr>\n",
       "    <tr>\n",
       "      <th>071607_2016-12-12</th>\n",
       "      <td>exclude from dataset</td>\n",
       "      <td>None</td>\n",
       "      <td>None</td>\n",
       "      <td>2019-09-24 23:36:55.789925120</td>\n",
       "      <td>LV</td>\n",
       "    </tr>\n",
       "    <tr>\n",
       "      <th>141694_2016-02-10</th>\n",
       "      <td>not toxic media</td>\n",
       "      <td>False</td>\n",
       "      <td>None</td>\n",
       "      <td>2019-09-24 23:36:50.162441984</td>\n",
       "      <td>LV</td>\n",
       "    </tr>\n",
       "    <tr>\n",
       "      <th>137157_2017-02-09</th>\n",
       "      <td>not toxic media</td>\n",
       "      <td>True</td>\n",
       "      <td>Donald Trump</td>\n",
       "      <td>2019-09-24 23:37:14.469518080</td>\n",
       "      <td>LV</td>\n",
       "    </tr>\n",
       "    <tr>\n",
       "      <th>034187_2016-09-27</th>\n",
       "      <td>toxic media</td>\n",
       "      <td>False</td>\n",
       "      <td>None</td>\n",
       "      <td>2019-09-24 23:37:22.318926080</td>\n",
       "      <td>LV</td>\n",
       "    </tr>\n",
       "    <tr>\n",
       "      <th>018678_2017-04-23</th>\n",
       "      <td>toxic media</td>\n",
       "      <td>False</td>\n",
       "      <td>None</td>\n",
       "      <td>2019-09-24 23:37:25.850139904</td>\n",
       "      <td>LV</td>\n",
       "    </tr>\n",
       "    <tr>\n",
       "      <th>120386_2016-11-14</th>\n",
       "      <td>not toxic media</td>\n",
       "      <td>False</td>\n",
       "      <td>None</td>\n",
       "      <td>2019-09-24 23:37:31.623525888</td>\n",
       "      <td>LV</td>\n",
       "    </tr>\n",
       "  </tbody>\n",
       "</table>\n",
       "</div>"
      ],
      "text/plain": [
       "                            Toxic media Political    Politician  \\\n",
       "052632_2015-02-28       not toxic media      True     Rand Paul   \n",
       "071607_2016-12-12  exclude from dataset      None          None   \n",
       "141694_2016-02-10       not toxic media     False          None   \n",
       "137157_2017-02-09       not toxic media      True  Donald Trump   \n",
       "034187_2016-09-27           toxic media     False          None   \n",
       "018678_2017-04-23           toxic media     False          None   \n",
       "120386_2016-11-14       not toxic media     False          None   \n",
       "\n",
       "                                      timestamp user  \n",
       "052632_2015-02-28 2019-09-24 23:36:27.777639936   LV  \n",
       "071607_2016-12-12 2019-09-24 23:36:55.789925120   LV  \n",
       "141694_2016-02-10 2019-09-24 23:36:50.162441984   LV  \n",
       "137157_2017-02-09 2019-09-24 23:37:14.469518080   LV  \n",
       "034187_2016-09-27 2019-09-24 23:37:22.318926080   LV  \n",
       "018678_2017-04-23 2019-09-24 23:37:25.850139904   LV  \n",
       "120386_2016-11-14 2019-09-24 23:37:31.623525888   LV  "
      ]
     },
     "execution_count": 9,
     "metadata": {},
     "output_type": "execute_result"
    }
   ],
   "source": [
    "annotator.annotated"
   ]
  },
  {
   "cell_type": "markdown",
   "metadata": {},
   "source": [
    "---\n",
    "### Merge your annotations with the data"
   ]
  },
  {
   "cell_type": "code",
   "execution_count": 10,
   "metadata": {},
   "outputs": [
    {
     "data": {
      "text/html": [
       "<div>\n",
       "<style scoped>\n",
       "    .dataframe tbody tr th:only-of-type {\n",
       "        vertical-align: middle;\n",
       "    }\n",
       "\n",
       "    .dataframe tbody tr th {\n",
       "        vertical-align: top;\n",
       "    }\n",
       "\n",
       "    .dataframe thead tr th {\n",
       "        text-align: left;\n",
       "    }\n",
       "\n",
       "    .dataframe thead tr:last-of-type th {\n",
       "        text-align: right;\n",
       "    }\n",
       "</style>\n",
       "<table border=\"1\" class=\"dataframe\">\n",
       "  <thead>\n",
       "    <tr>\n",
       "      <th></th>\n",
       "      <th colspan=\"3\" halign=\"left\">DATA</th>\n",
       "      <th colspan=\"5\" halign=\"left\">ANNOTATIONS</th>\n",
       "    </tr>\n",
       "    <tr>\n",
       "      <th></th>\n",
       "      <th>title</th>\n",
       "      <th>date</th>\n",
       "      <th>text</th>\n",
       "      <th>Toxic media</th>\n",
       "      <th>Political</th>\n",
       "      <th>Politician</th>\n",
       "      <th>timestamp</th>\n",
       "      <th>user</th>\n",
       "    </tr>\n",
       "    <tr>\n",
       "      <th>news_id</th>\n",
       "      <th></th>\n",
       "      <th></th>\n",
       "      <th></th>\n",
       "      <th></th>\n",
       "      <th></th>\n",
       "      <th></th>\n",
       "      <th></th>\n",
       "      <th></th>\n",
       "    </tr>\n",
       "  </thead>\n",
       "  <tbody>\n",
       "    <tr>\n",
       "      <th>052632_2015-02-28</th>\n",
       "      <td>Rand Paul wins 2015 CPAC straw poll</td>\n",
       "      <td>2015-02-28</td>\n",
       "      <td>[Washington (CNN)Sen. Rand Paul won the Conser...</td>\n",
       "      <td>not toxic media</td>\n",
       "      <td>True</td>\n",
       "      <td>Rand Paul</td>\n",
       "      <td>2019-09-24 23:36:27.777639936</td>\n",
       "      <td>LV</td>\n",
       "    </tr>\n",
       "    <tr>\n",
       "      <th>071607_2016-12-12</th>\n",
       "      <td>Can Singing Mice Reveal the Roots of Human Spe...</td>\n",
       "      <td>2016-12-12</td>\n",
       "      <td>[One chilly day in February 1877, a British co...</td>\n",
       "      <td>exclude from dataset</td>\n",
       "      <td>None</td>\n",
       "      <td>None</td>\n",
       "      <td>2019-09-24 23:36:55.789925120</td>\n",
       "      <td>LV</td>\n",
       "    </tr>\n",
       "    <tr>\n",
       "      <th>141694_2016-02-10</th>\n",
       "      <td>Dollar hits 15-month low against yen after Yel...</td>\n",
       "      <td>2016-02-10</td>\n",
       "      <td>The dollar fell to a 15-month low against the...</td>\n",
       "      <td>not toxic media</td>\n",
       "      <td>False</td>\n",
       "      <td>None</td>\n",
       "      <td>2019-09-24 23:36:50.162441984</td>\n",
       "      <td>LV</td>\n",
       "    </tr>\n",
       "    <tr>\n",
       "      <th>137157_2017-02-09</th>\n",
       "      <td>Trump's Supreme Court pick dispirited by presi...</td>\n",
       "      <td>2017-02-09</td>\n",
       "      <td>Donald Trump's Supreme Court nominee, Neil Go...</td>\n",
       "      <td>not toxic media</td>\n",
       "      <td>True</td>\n",
       "      <td>Donald Trump</td>\n",
       "      <td>2019-09-24 23:37:14.469518080</td>\n",
       "      <td>LV</td>\n",
       "    </tr>\n",
       "    <tr>\n",
       "      <th>034187_2016-09-27</th>\n",
       "      <td>FULL TEXT: 10 Things Milo Hates About Islam - ...</td>\n",
       "      <td>2016-09-27</td>\n",
       "      <td>I’m Milo Yiannopoulos, thank you for coming. T...</td>\n",
       "      <td>toxic media</td>\n",
       "      <td>False</td>\n",
       "      <td>None</td>\n",
       "      <td>2019-09-24 23:37:22.318926080</td>\n",
       "      <td>LV</td>\n",
       "    </tr>\n",
       "    <tr>\n",
       "      <th>018678_2017-04-23</th>\n",
       "      <td>5 Border Horrors Establishment Media Mostly Ig...</td>\n",
       "      <td>2017-04-23</td>\n",
       "      <td>The brutality that comes from the open border ...</td>\n",
       "      <td>toxic media</td>\n",
       "      <td>False</td>\n",
       "      <td>None</td>\n",
       "      <td>2019-09-24 23:37:25.850139904</td>\n",
       "      <td>LV</td>\n",
       "    </tr>\n",
       "    <tr>\n",
       "      <th>120386_2016-11-14</th>\n",
       "      <td>Crew members injured as plane avoids near coll...</td>\n",
       "      <td>2016-11-14</td>\n",
       "      <td>A Canadian airliner with 54 passengers on boar...</td>\n",
       "      <td>not toxic media</td>\n",
       "      <td>False</td>\n",
       "      <td>None</td>\n",
       "      <td>2019-09-24 23:37:31.623525888</td>\n",
       "      <td>LV</td>\n",
       "    </tr>\n",
       "    <tr>\n",
       "      <th>135236_2016-11-10</th>\n",
       "      <td>Bodies Of Missing Married Couple Found On Susp...</td>\n",
       "      <td>2016-11-10</td>\n",
       "      <td>[The bodies of two more presumed victims of To...</td>\n",
       "      <td>NaN</td>\n",
       "      <td>NaN</td>\n",
       "      <td>NaN</td>\n",
       "      <td>NaT</td>\n",
       "      <td>NaN</td>\n",
       "    </tr>\n",
       "    <tr>\n",
       "      <th>184514_2017-03-17</th>\n",
       "      <td>350 Square Feet, Two Kids, Two Cats and a Rabb...</td>\n",
       "      <td>2017-03-17</td>\n",
       "      <td>Maligned though New York’s rental market may b...</td>\n",
       "      <td>NaN</td>\n",
       "      <td>NaN</td>\n",
       "      <td>NaN</td>\n",
       "      <td>NaT</td>\n",
       "      <td>NaN</td>\n",
       "    </tr>\n",
       "    <tr>\n",
       "      <th>106098_2017-06-02</th>\n",
       "      <td>CDC warns about deadly mushrooms amid surge in...</td>\n",
       "      <td>2017-06-02</td>\n",
       "      <td>Dangerous wild “death cap” mushrooms in Califo...</td>\n",
       "      <td>NaN</td>\n",
       "      <td>NaN</td>\n",
       "      <td>NaN</td>\n",
       "      <td>NaT</td>\n",
       "      <td>NaN</td>\n",
       "    </tr>\n",
       "  </tbody>\n",
       "</table>\n",
       "</div>"
      ],
      "text/plain": [
       "                                                                DATA  \\\n",
       "                                                               title   \n",
       "news_id                                                                \n",
       "052632_2015-02-28                Rand Paul wins 2015 CPAC straw poll   \n",
       "071607_2016-12-12  Can Singing Mice Reveal the Roots of Human Spe...   \n",
       "141694_2016-02-10  Dollar hits 15-month low against yen after Yel...   \n",
       "137157_2017-02-09  Trump's Supreme Court pick dispirited by presi...   \n",
       "034187_2016-09-27  FULL TEXT: 10 Things Milo Hates About Islam - ...   \n",
       "018678_2017-04-23  5 Border Horrors Establishment Media Mostly Ig...   \n",
       "120386_2016-11-14  Crew members injured as plane avoids near coll...   \n",
       "135236_2016-11-10  Bodies Of Missing Married Couple Found On Susp...   \n",
       "184514_2017-03-17  350 Square Feet, Two Kids, Two Cats and a Rabb...   \n",
       "106098_2017-06-02  CDC warns about deadly mushrooms amid surge in...   \n",
       "\n",
       "                               \\\n",
       "                         date   \n",
       "news_id                         \n",
       "052632_2015-02-28  2015-02-28   \n",
       "071607_2016-12-12  2016-12-12   \n",
       "141694_2016-02-10  2016-02-10   \n",
       "137157_2017-02-09  2017-02-09   \n",
       "034187_2016-09-27  2016-09-27   \n",
       "018678_2017-04-23  2017-04-23   \n",
       "120386_2016-11-14  2016-11-14   \n",
       "135236_2016-11-10  2016-11-10   \n",
       "184514_2017-03-17  2017-03-17   \n",
       "106098_2017-06-02  2017-06-02   \n",
       "\n",
       "                                                                      \\\n",
       "                                                                text   \n",
       "news_id                                                                \n",
       "052632_2015-02-28  [Washington (CNN)Sen. Rand Paul won the Conser...   \n",
       "071607_2016-12-12  [One chilly day in February 1877, a British co...   \n",
       "141694_2016-02-10   The dollar fell to a 15-month low against the...   \n",
       "137157_2017-02-09   Donald Trump's Supreme Court nominee, Neil Go...   \n",
       "034187_2016-09-27  I’m Milo Yiannopoulos, thank you for coming. T...   \n",
       "018678_2017-04-23  The brutality that comes from the open border ...   \n",
       "120386_2016-11-14  A Canadian airliner with 54 passengers on boar...   \n",
       "135236_2016-11-10  [The bodies of two more presumed victims of To...   \n",
       "184514_2017-03-17  Maligned though New York’s rental market may b...   \n",
       "106098_2017-06-02  Dangerous wild “death cap” mushrooms in Califo...   \n",
       "\n",
       "                            ANNOTATIONS                          \\\n",
       "                            Toxic media Political    Politician   \n",
       "news_id                                                           \n",
       "052632_2015-02-28       not toxic media      True     Rand Paul   \n",
       "071607_2016-12-12  exclude from dataset      None          None   \n",
       "141694_2016-02-10       not toxic media     False          None   \n",
       "137157_2017-02-09       not toxic media      True  Donald Trump   \n",
       "034187_2016-09-27           toxic media     False          None   \n",
       "018678_2017-04-23           toxic media     False          None   \n",
       "120386_2016-11-14       not toxic media     False          None   \n",
       "135236_2016-11-10                   NaN       NaN           NaN   \n",
       "184514_2017-03-17                   NaN       NaN           NaN   \n",
       "106098_2017-06-02                   NaN       NaN           NaN   \n",
       "\n",
       "                                                      \n",
       "                                      timestamp user  \n",
       "news_id                                               \n",
       "052632_2015-02-28 2019-09-24 23:36:27.777639936   LV  \n",
       "071607_2016-12-12 2019-09-24 23:36:55.789925120   LV  \n",
       "141694_2016-02-10 2019-09-24 23:36:50.162441984   LV  \n",
       "137157_2017-02-09 2019-09-24 23:37:14.469518080   LV  \n",
       "034187_2016-09-27 2019-09-24 23:37:22.318926080   LV  \n",
       "018678_2017-04-23 2019-09-24 23:37:25.850139904   LV  \n",
       "120386_2016-11-14 2019-09-24 23:37:31.623525888   LV  \n",
       "135236_2016-11-10                           NaT  NaN  \n",
       "184514_2017-03-17                           NaT  NaN  \n",
       "106098_2017-06-02                           NaT  NaN  "
      ]
     },
     "execution_count": 10,
     "metadata": {},
     "output_type": "execute_result"
    }
   ],
   "source": [
    "annotator.merged()"
   ]
  },
  {
   "cell_type": "markdown",
   "metadata": {},
   "source": [
    "---\n",
    "### Save and load your data"
   ]
  },
  {
   "cell_type": "code",
   "execution_count": 11,
   "metadata": {},
   "outputs": [],
   "source": [
    "annotator.save('annotator.pkl')"
   ]
  },
  {
   "cell_type": "code",
   "execution_count": 12,
   "metadata": {},
   "outputs": [],
   "source": [
    "annotator2 = Annotator.load('annotator.pkl')"
   ]
  },
  {
   "cell_type": "markdown",
   "metadata": {},
   "source": [
    "We can access our annotations:"
   ]
  },
  {
   "cell_type": "code",
   "execution_count": 13,
   "metadata": {},
   "outputs": [
    {
     "data": {
      "text/html": [
       "<div>\n",
       "<style scoped>\n",
       "    .dataframe tbody tr th:only-of-type {\n",
       "        vertical-align: middle;\n",
       "    }\n",
       "\n",
       "    .dataframe tbody tr th {\n",
       "        vertical-align: top;\n",
       "    }\n",
       "\n",
       "    .dataframe thead th {\n",
       "        text-align: right;\n",
       "    }\n",
       "</style>\n",
       "<table border=\"1\" class=\"dataframe\">\n",
       "  <thead>\n",
       "    <tr style=\"text-align: right;\">\n",
       "      <th></th>\n",
       "      <th>Toxic media</th>\n",
       "      <th>Political</th>\n",
       "      <th>Politician</th>\n",
       "      <th>timestamp</th>\n",
       "      <th>user</th>\n",
       "    </tr>\n",
       "  </thead>\n",
       "  <tbody>\n",
       "    <tr>\n",
       "      <th>052632_2015-02-28</th>\n",
       "      <td>not toxic media</td>\n",
       "      <td>True</td>\n",
       "      <td>Rand Paul</td>\n",
       "      <td>2019-09-24 23:36:27.777639936</td>\n",
       "      <td>LV</td>\n",
       "    </tr>\n",
       "    <tr>\n",
       "      <th>071607_2016-12-12</th>\n",
       "      <td>exclude from dataset</td>\n",
       "      <td>None</td>\n",
       "      <td>None</td>\n",
       "      <td>2019-09-24 23:36:55.789925120</td>\n",
       "      <td>LV</td>\n",
       "    </tr>\n",
       "    <tr>\n",
       "      <th>141694_2016-02-10</th>\n",
       "      <td>not toxic media</td>\n",
       "      <td>False</td>\n",
       "      <td>None</td>\n",
       "      <td>2019-09-24 23:36:50.162441984</td>\n",
       "      <td>LV</td>\n",
       "    </tr>\n",
       "    <tr>\n",
       "      <th>137157_2017-02-09</th>\n",
       "      <td>not toxic media</td>\n",
       "      <td>True</td>\n",
       "      <td>Donald Trump</td>\n",
       "      <td>2019-09-24 23:37:14.469518080</td>\n",
       "      <td>LV</td>\n",
       "    </tr>\n",
       "    <tr>\n",
       "      <th>034187_2016-09-27</th>\n",
       "      <td>toxic media</td>\n",
       "      <td>False</td>\n",
       "      <td>None</td>\n",
       "      <td>2019-09-24 23:37:22.318926080</td>\n",
       "      <td>LV</td>\n",
       "    </tr>\n",
       "    <tr>\n",
       "      <th>018678_2017-04-23</th>\n",
       "      <td>toxic media</td>\n",
       "      <td>False</td>\n",
       "      <td>None</td>\n",
       "      <td>2019-09-24 23:37:25.850139904</td>\n",
       "      <td>LV</td>\n",
       "    </tr>\n",
       "    <tr>\n",
       "      <th>120386_2016-11-14</th>\n",
       "      <td>not toxic media</td>\n",
       "      <td>False</td>\n",
       "      <td>None</td>\n",
       "      <td>2019-09-24 23:37:31.623525888</td>\n",
       "      <td>LV</td>\n",
       "    </tr>\n",
       "  </tbody>\n",
       "</table>\n",
       "</div>"
      ],
      "text/plain": [
       "                            Toxic media Political    Politician  \\\n",
       "052632_2015-02-28       not toxic media      True     Rand Paul   \n",
       "071607_2016-12-12  exclude from dataset      None          None   \n",
       "141694_2016-02-10       not toxic media     False          None   \n",
       "137157_2017-02-09       not toxic media      True  Donald Trump   \n",
       "034187_2016-09-27           toxic media     False          None   \n",
       "018678_2017-04-23           toxic media     False          None   \n",
       "120386_2016-11-14       not toxic media     False          None   \n",
       "\n",
       "                                      timestamp user  \n",
       "052632_2015-02-28 2019-09-24 23:36:27.777639936   LV  \n",
       "071607_2016-12-12 2019-09-24 23:36:55.789925120   LV  \n",
       "141694_2016-02-10 2019-09-24 23:36:50.162441984   LV  \n",
       "137157_2017-02-09 2019-09-24 23:37:14.469518080   LV  \n",
       "034187_2016-09-27 2019-09-24 23:37:22.318926080   LV  \n",
       "018678_2017-04-23 2019-09-24 23:37:25.850139904   LV  \n",
       "120386_2016-11-14 2019-09-24 23:37:31.623525888   LV  "
      ]
     },
     "execution_count": 13,
     "metadata": {},
     "output_type": "execute_result"
    }
   ],
   "source": [
    "annotator2.annotated"
   ]
  },
  {
   "cell_type": "markdown",
   "metadata": {},
   "source": [
    "But when we try to access the data something unexpected happens:"
   ]
  },
  {
   "cell_type": "code",
   "execution_count": 14,
   "metadata": {},
   "outputs": [
    {
     "name": "stdout",
     "output_type": "stream",
     "text": [
      "NO DATA LOADED\n",
      "==============\n",
      "Load the data first by assigning it to the `data` property of the annotator.\n"
     ]
    }
   ],
   "source": [
    "annotator2.data"
   ]
  },
  {
   "cell_type": "markdown",
   "metadata": {},
   "source": [
    "By default the humannotator will not store the data when you pickle it.  \n",
    "After unpickling our annotator we need to then load our data back in for it to work:"
   ]
  },
  {
   "cell_type": "code",
   "execution_count": 15,
   "metadata": {},
   "outputs": [],
   "source": [
    "annotator2.data = data"
   ]
  },
  {
   "cell_type": "markdown",
   "metadata": {},
   "source": [
    "Now we can continue where we left off.  \n",
    "Let's set it the annotator to **text mode** as well.  \n",
    "This is what the annotator looks like from the terminal:"
   ]
  },
  {
   "cell_type": "code",
   "execution_count": null,
   "metadata": {},
   "outputs": [
    {
     "name": "stdout",
     "output_type": "stream",
     "text": [
      "HUMANNOTATOR                                                       user: LV\n",
      "===========================================================================\n",
      "id: 135236_2016-11-10                                                 1 / 3\n",
      "item: \n",
      "    title: Bodies Of Missing Married Couple Found On Suspected S.C.\n",
      "        Kidnapper's Land\n",
      "    date: 2016-11-10\n",
      "    text: [The bodies of two more presumed victims of Todd Kohlhepp, the\n",
      "        South Carolina man who has confessed to multiple murders, have been\n",
      "        identified as a young married couple who went missing in [...]\n",
      "\n",
      "===========================================================================\n",
      "Task 1 / 3\n",
      "Toxic media (category)\n",
      "  \n",
      "[0] - not toxic media  \n",
      "[1] - toxic media  \n",
      "[3] - exclude from dataset  \n",
      "  \n",
      "[.] - exit  \n",
      "\n",
      "\n"
     ]
    }
   ],
   "source": [
    "annotator2(text_display=True)"
   ]
  },
  {
   "cell_type": "markdown",
   "metadata": {},
   "source": [
    "If you do wish to save the data with the annotator, then set the `save_data` flag to True."
   ]
  }
 ],
 "metadata": {
  "kernelspec": {
   "display_name": "humannotator",
   "language": "python",
   "name": "humannotator"
  },
  "language_info": {
   "codemirror_mode": {
    "name": "ipython",
    "version": 3
   },
   "file_extension": ".py",
   "mimetype": "text/x-python",
   "name": "python",
   "nbconvert_exporter": "python",
   "pygments_lexer": "ipython3",
   "version": "3.7.3"
  }
 },
 "nbformat": 4,
 "nbformat_minor": 4
}
